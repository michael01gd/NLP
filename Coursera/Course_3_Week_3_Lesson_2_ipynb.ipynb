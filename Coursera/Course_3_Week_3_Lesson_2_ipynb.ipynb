{
  "nbformat": 4,
  "nbformat_minor": 0,
  "metadata": {
    "accelerator": "GPU",
    "colab": {
      "name": "Course 3 - Week 3 - Lesson 2.ipynb adlı not defterinin kopyası",
      "provenance": [],
      "collapsed_sections": [],
      "include_colab_link": true
    },
    "kernelspec": {
      "display_name": "Python 3",
      "language": "python",
      "name": "python3"
    },
    "language_info": {
      "codemirror_mode": {
        "name": "ipython",
        "version": 3
      },
      "file_extension": ".py",
      "mimetype": "text/x-python",
      "name": "python",
      "nbconvert_exporter": "python",
      "pygments_lexer": "ipython3",
      "version": "3.7.6"
    }
  },
  "cells": [
    {
      "cell_type": "markdown",
      "metadata": {
        "id": "view-in-github",
        "colab_type": "text"
      },
      "source": [
        "<a href=\"https://colab.research.google.com/github/michael01gd/NLP/blob/main/Coursera/Course_3_Week_3_Lesson_2_ipynb.ipynb\" target=\"_parent\"><img src=\"https://colab.research.google.com/assets/colab-badge.svg\" alt=\"Open In Colab\"/></a>"
      ]
    },
    {
      "cell_type": "code",
      "metadata": {
        "id": "zX4Kg8DUTKWO"
      },
      "source": [
        "#@title Licensed under the Apache License, Version 2.0 (the \"License\");\n",
        "# you may not use this file except in compliance with the License.\n",
        "# You may obtain a copy of the License at\n",
        "#\n",
        "# https://www.apache.org/licenses/LICENSE-2.0\n",
        "#\n",
        "# Unless required by applicable law or agreed to in writing, software\n",
        "# distributed under the License is distributed on an \"AS IS\" BASIS,\n",
        "# WITHOUT WARRANTIES OR CONDITIONS OF ANY KIND, either express or implied.\n",
        "# See the License for the specific language governing permissions and\n",
        "# limitations under the License."
      ],
      "execution_count": null,
      "outputs": []
    },
    {
      "cell_type": "markdown",
      "metadata": {
        "id": "vVjig4kVjG5n"
      },
      "source": [
        "<a href=\"https://colab.research.google.com/github/lmoroney/dlaicourse/blob/master/TensorFlow%20In%20Practice/Course%203%20-%20NLP/Course%203%20-%20Week%203%20-%20Lesson%202.ipynb\" target=\"_parent\"><img src=\"https://colab.research.google.com/assets/colab-badge.svg\" alt=\"Open In Colab\"/></a>"
      ]
    },
    {
      "cell_type": "code",
      "metadata": {
        "colab": {
          "base_uri": "https://localhost:8080/"
        },
        "id": "jGwXGIXvFhXW",
        "outputId": "d68ea428-2cc9-48b4-b01c-8ccc6a2dddef"
      },
      "source": [
        "import numpy as np\n",
        "\n",
        "import json\n",
        "import tensorflow as tf\n",
        "\n",
        "from tensorflow.keras.preprocessing.text import Tokenizer\n",
        "from tensorflow.keras.preprocessing.sequence import pad_sequences\n",
        "\n",
        "!wget --no-check-certificate \\\n",
        "    https://storage.googleapis.com/laurencemoroney-blog.appspot.com/sarcasm.json \\\n",
        "    -O /tmp/sarcasm.json\n",
        "\n",
        "vocab_size = 1000\n",
        "embedding_dim = 16\n",
        "max_length = 120\n",
        "trunc_type='post'\n",
        "padding_type='post'\n",
        "oov_tok = \"<OOV>\"\n",
        "training_size = 20000\n",
        "\n",
        "\n",
        "with open(\"/tmp/sarcasm.json\", 'r') as f:\n",
        "    datastore = json.load(f)\n",
        "\n",
        "\n",
        "sentences = []\n",
        "labels = []\n",
        "urls = []\n",
        "for item in datastore:\n",
        "    sentences.append(item['headline'])\n",
        "    labels.append(item['is_sarcastic'])\n",
        "\n",
        "training_sentences = sentences[0:training_size]\n",
        "testing_sentences = sentences[training_size:]\n",
        "training_labels = labels[0:training_size]\n",
        "testing_labels = labels[training_size:]\n",
        "\n",
        "tokenizer = Tokenizer(num_words=vocab_size, oov_token=oov_tok)\n",
        "tokenizer.fit_on_texts(training_sentences)\n",
        "\n",
        "word_index = tokenizer.word_index\n",
        "\n",
        "training_sequences = tokenizer.texts_to_sequences(training_sentences)\n",
        "training_padded = pad_sequences(training_sequences, maxlen=max_length, padding=padding_type, truncating=trunc_type)\n",
        "\n",
        "testing_sequences = tokenizer.texts_to_sequences(testing_sentences)\n",
        "testing_padded = pad_sequences(testing_sequences, maxlen=max_length, padding=padding_type, truncating=trunc_type)\n",
        "\n",
        "model = tf.keras.Sequential([\n",
        "    tf.keras.layers.Embedding(vocab_size, embedding_dim, input_length=max_length),\n",
        "    tf.keras.layers.Bidirectional(tf.keras.layers.LSTM(32)),\n",
        "    tf.keras.layers.Dense(24, activation='relu'),\n",
        "    tf.keras.layers.Dense(1, activation='sigmoid')\n",
        "])\n",
        "model.compile(loss='binary_crossentropy',optimizer='adam',metrics=['accuracy'])\n",
        "model.summary()\n",
        "\n",
        "num_epochs = 50\n",
        "training_padded = np.array(training_padded)\n",
        "training_labels = np.array(training_labels)\n",
        "testing_padded = np.array(testing_padded)\n",
        "testing_labels = np.array(testing_labels)\n",
        "history = model.fit(training_padded, training_labels, epochs=num_epochs, validation_data=(testing_padded, testing_labels), verbose=1)\n"
      ],
      "execution_count": null,
      "outputs": [
        {
          "output_type": "stream",
          "text": [
            "--2021-01-26 07:17:23--  https://storage.googleapis.com/laurencemoroney-blog.appspot.com/sarcasm.json\n",
            "Resolving storage.googleapis.com (storage.googleapis.com)... 142.250.73.208, 172.217.5.240, 172.217.7.240, ...\n",
            "Connecting to storage.googleapis.com (storage.googleapis.com)|142.250.73.208|:443... connected.\n",
            "HTTP request sent, awaiting response... 200 OK\n",
            "Length: 5643545 (5.4M) [application/json]\n",
            "Saving to: ‘/tmp/sarcasm.json’\n",
            "\n",
            "\r/tmp/sarcasm.json     0%[                    ]       0  --.-KB/s               \r/tmp/sarcasm.json   100%[===================>]   5.38M  --.-KB/s    in 0.05s   \n",
            "\n",
            "2021-01-26 07:17:23 (107 MB/s) - ‘/tmp/sarcasm.json’ saved [5643545/5643545]\n",
            "\n",
            "Model: \"sequential\"\n",
            "_________________________________________________________________\n",
            "Layer (type)                 Output Shape              Param #   \n",
            "=================================================================\n",
            "embedding (Embedding)        (None, 120, 16)           16000     \n",
            "_________________________________________________________________\n",
            "bidirectional (Bidirectional (None, 64)                12544     \n",
            "_________________________________________________________________\n",
            "dense (Dense)                (None, 24)                1560      \n",
            "_________________________________________________________________\n",
            "dense_1 (Dense)              (None, 1)                 25        \n",
            "=================================================================\n",
            "Total params: 30,129\n",
            "Trainable params: 30,129\n",
            "Non-trainable params: 0\n",
            "_________________________________________________________________\n",
            "Epoch 1/50\n",
            "625/625 [==============================] - 18s 15ms/step - loss: 0.5460 - accuracy: 0.6923 - val_loss: 0.3888 - val_accuracy: 0.8234\n",
            "Epoch 2/50\n",
            "625/625 [==============================] - 8s 13ms/step - loss: 0.3534 - accuracy: 0.8372 - val_loss: 0.3769 - val_accuracy: 0.8296\n",
            "Epoch 3/50\n",
            "625/625 [==============================] - 8s 13ms/step - loss: 0.3206 - accuracy: 0.8555 - val_loss: 0.3721 - val_accuracy: 0.8296\n",
            "Epoch 4/50\n",
            "625/625 [==============================] - 8s 13ms/step - loss: 0.3014 - accuracy: 0.8653 - val_loss: 0.3775 - val_accuracy: 0.8313\n",
            "Epoch 5/50\n",
            "625/625 [==============================] - 8s 13ms/step - loss: 0.2914 - accuracy: 0.8708 - val_loss: 0.3778 - val_accuracy: 0.8344\n",
            "Epoch 6/50\n",
            "625/625 [==============================] - 8s 13ms/step - loss: 0.2728 - accuracy: 0.8814 - val_loss: 0.3791 - val_accuracy: 0.8314\n",
            "Epoch 7/50\n",
            "625/625 [==============================] - 8s 13ms/step - loss: 0.2731 - accuracy: 0.8835 - val_loss: 0.3787 - val_accuracy: 0.8296\n",
            "Epoch 8/50\n",
            "625/625 [==============================] - 8s 14ms/step - loss: 0.2652 - accuracy: 0.8875 - val_loss: 0.3893 - val_accuracy: 0.8258\n",
            "Epoch 9/50\n",
            "625/625 [==============================] - 8s 14ms/step - loss: 0.2591 - accuracy: 0.8897 - val_loss: 0.3928 - val_accuracy: 0.8302\n",
            "Epoch 10/50\n",
            "625/625 [==============================] - 8s 13ms/step - loss: 0.2595 - accuracy: 0.8892 - val_loss: 0.4162 - val_accuracy: 0.8256\n",
            "Epoch 11/50\n",
            "625/625 [==============================] - 8s 13ms/step - loss: 0.2525 - accuracy: 0.8927 - val_loss: 0.4015 - val_accuracy: 0.8264\n",
            "Epoch 12/50\n",
            "625/625 [==============================] - 8s 14ms/step - loss: 0.2424 - accuracy: 0.8963 - val_loss: 0.4231 - val_accuracy: 0.8265\n",
            "Epoch 13/50\n",
            "625/625 [==============================] - 8s 13ms/step - loss: 0.2414 - accuracy: 0.8977 - val_loss: 0.4489 - val_accuracy: 0.8173\n",
            "Epoch 14/50\n",
            "625/625 [==============================] - 8s 14ms/step - loss: 0.2388 - accuracy: 0.8968 - val_loss: 0.4219 - val_accuracy: 0.8235\n",
            "Epoch 15/50\n",
            "625/625 [==============================] - 8s 13ms/step - loss: 0.2290 - accuracy: 0.9065 - val_loss: 0.4471 - val_accuracy: 0.8226\n",
            "Epoch 16/50\n",
            "625/625 [==============================] - 9s 14ms/step - loss: 0.2239 - accuracy: 0.9051 - val_loss: 0.4634 - val_accuracy: 0.8208\n",
            "Epoch 17/50\n",
            "625/625 [==============================] - 8s 13ms/step - loss: 0.2207 - accuracy: 0.9095 - val_loss: 0.4744 - val_accuracy: 0.8179\n",
            "Epoch 18/50\n",
            "625/625 [==============================] - 8s 13ms/step - loss: 0.2135 - accuracy: 0.9109 - val_loss: 0.4575 - val_accuracy: 0.8188\n",
            "Epoch 19/50\n",
            "625/625 [==============================] - 8s 13ms/step - loss: 0.2000 - accuracy: 0.9147 - val_loss: 0.4957 - val_accuracy: 0.8201\n",
            "Epoch 20/50\n",
            "625/625 [==============================] - 9s 14ms/step - loss: 0.1946 - accuracy: 0.9190 - val_loss: 0.5156 - val_accuracy: 0.8170\n",
            "Epoch 21/50\n",
            "625/625 [==============================] - 8s 14ms/step - loss: 0.1913 - accuracy: 0.9204 - val_loss: 0.5791 - val_accuracy: 0.8125\n",
            "Epoch 22/50\n",
            "625/625 [==============================] - 9s 14ms/step - loss: 0.1937 - accuracy: 0.9186 - val_loss: 0.5331 - val_accuracy: 0.8147\n",
            "Epoch 23/50\n",
            "625/625 [==============================] - 8s 13ms/step - loss: 0.1693 - accuracy: 0.9317 - val_loss: 0.5899 - val_accuracy: 0.8111\n",
            "Epoch 24/50\n",
            "625/625 [==============================] - 9s 14ms/step - loss: 0.1726 - accuracy: 0.9271 - val_loss: 0.5927 - val_accuracy: 0.8123\n",
            "Epoch 25/50\n",
            "625/625 [==============================] - 8s 13ms/step - loss: 0.1639 - accuracy: 0.9334 - val_loss: 0.6181 - val_accuracy: 0.8120\n",
            "Epoch 26/50\n",
            "625/625 [==============================] - 8s 13ms/step - loss: 0.1562 - accuracy: 0.9367 - val_loss: 0.6732 - val_accuracy: 0.8098\n",
            "Epoch 27/50\n",
            "625/625 [==============================] - 9s 14ms/step - loss: 0.1527 - accuracy: 0.9417 - val_loss: 0.6629 - val_accuracy: 0.8043\n",
            "Epoch 28/50\n",
            "625/625 [==============================] - 8s 13ms/step - loss: 0.1464 - accuracy: 0.9419 - val_loss: 0.6758 - val_accuracy: 0.8064\n",
            "Epoch 29/50\n",
            "625/625 [==============================] - 8s 13ms/step - loss: 0.1443 - accuracy: 0.9431 - val_loss: 0.7894 - val_accuracy: 0.8024\n",
            "Epoch 30/50\n",
            "625/625 [==============================] - 8s 13ms/step - loss: 0.1353 - accuracy: 0.9458 - val_loss: 0.7554 - val_accuracy: 0.8061\n",
            "Epoch 31/50\n",
            "625/625 [==============================] - 8s 13ms/step - loss: 0.1290 - accuracy: 0.9472 - val_loss: 0.8560 - val_accuracy: 0.8074\n",
            "Epoch 32/50\n",
            "625/625 [==============================] - 8s 13ms/step - loss: 0.1208 - accuracy: 0.9514 - val_loss: 0.8485 - val_accuracy: 0.8070\n",
            "Epoch 33/50\n",
            "625/625 [==============================] - 8s 13ms/step - loss: 0.1146 - accuracy: 0.9548 - val_loss: 0.8776 - val_accuracy: 0.8015\n",
            "Epoch 34/50\n",
            "625/625 [==============================] - 8s 13ms/step - loss: 0.1077 - accuracy: 0.9568 - val_loss: 0.9311 - val_accuracy: 0.8043\n",
            "Epoch 35/50\n",
            "625/625 [==============================] - 8s 13ms/step - loss: 0.1079 - accuracy: 0.9590 - val_loss: 0.9266 - val_accuracy: 0.8012\n",
            "Epoch 36/50\n",
            "625/625 [==============================] - 8s 13ms/step - loss: 0.1050 - accuracy: 0.9593 - val_loss: 1.0129 - val_accuracy: 0.7985\n",
            "Epoch 37/50\n",
            "625/625 [==============================] - 8s 13ms/step - loss: 0.0927 - accuracy: 0.9657 - val_loss: 0.9870 - val_accuracy: 0.7973\n",
            "Epoch 38/50\n",
            "625/625 [==============================] - 8s 14ms/step - loss: 0.0890 - accuracy: 0.9646 - val_loss: 1.0315 - val_accuracy: 0.7980\n",
            "Epoch 39/50\n",
            "625/625 [==============================] - 8s 13ms/step - loss: 0.0840 - accuracy: 0.9664 - val_loss: 1.1671 - val_accuracy: 0.8001\n",
            "Epoch 40/50\n",
            "625/625 [==============================] - 8s 13ms/step - loss: 0.0811 - accuracy: 0.9667 - val_loss: 1.1725 - val_accuracy: 0.7995\n",
            "Epoch 41/50\n",
            "625/625 [==============================] - 8s 13ms/step - loss: 0.0795 - accuracy: 0.9691 - val_loss: 1.2679 - val_accuracy: 0.7927\n",
            "Epoch 42/50\n",
            "625/625 [==============================] - 8s 14ms/step - loss: 0.0775 - accuracy: 0.9673 - val_loss: 1.2483 - val_accuracy: 0.7924\n",
            "Epoch 43/50\n",
            "625/625 [==============================] - 8s 13ms/step - loss: 0.0755 - accuracy: 0.9700 - val_loss: 1.2530 - val_accuracy: 0.7904\n",
            "Epoch 44/50\n",
            "625/625 [==============================] - 8s 14ms/step - loss: 0.0697 - accuracy: 0.9725 - val_loss: 1.3650 - val_accuracy: 0.7906\n",
            "Epoch 45/50\n",
            "625/625 [==============================] - 8s 14ms/step - loss: 0.0628 - accuracy: 0.9745 - val_loss: 1.3670 - val_accuracy: 0.7889\n",
            "Epoch 46/50\n",
            "625/625 [==============================] - 9s 14ms/step - loss: 0.0675 - accuracy: 0.9732 - val_loss: 1.5063 - val_accuracy: 0.7934\n",
            "Epoch 47/50\n",
            "625/625 [==============================] - 9s 14ms/step - loss: 0.0575 - accuracy: 0.9761 - val_loss: 1.5846 - val_accuracy: 0.7982\n",
            "Epoch 48/50\n",
            "625/625 [==============================] - 9s 14ms/step - loss: 0.0600 - accuracy: 0.9759 - val_loss: 1.4562 - val_accuracy: 0.7974\n",
            "Epoch 49/50\n",
            "625/625 [==============================] - 8s 13ms/step - loss: 0.0637 - accuracy: 0.9737 - val_loss: 1.5134 - val_accuracy: 0.7965\n",
            "Epoch 50/50\n",
            "625/625 [==============================] - 8s 13ms/step - loss: 0.0540 - accuracy: 0.9774 - val_loss: 1.6788 - val_accuracy: 0.7959\n"
          ],
          "name": "stdout"
        }
      ]
    },
    {
      "cell_type": "code",
      "metadata": {
        "colab": {
          "base_uri": "https://localhost:8080/",
          "height": 541
        },
        "id": "g9DC6dmLF8DC",
        "outputId": "fff6eb04-2bc6-4b12-eb5c-75a1d5f38bd1"
      },
      "source": [
        "import matplotlib.pyplot as plt\n",
        "\n",
        "\n",
        "def plot_graphs(history, string):\n",
        "  plt.plot(history.history[string])\n",
        "  plt.plot(history.history['val_'+string])\n",
        "  plt.xlabel(\"Epochs\")\n",
        "  plt.ylabel(string)\n",
        "  plt.legend([string, 'val_'+string])\n",
        "  plt.show()\n",
        "\n",
        "plot_graphs(history, 'accuracy')\n",
        "plot_graphs(history, 'loss')"
      ],
      "execution_count": null,
      "outputs": [
        {
          "output_type": "display_data",
          "data": {
            "image/png": "[encoded data removed]",
            "text/plain": [
              "<Figure size 432x288 with 1 Axes>"
            ]
          },
          "metadata": {
            "tags": [],
            "needs_background": "light"
          }
        },
        {
          "output_type": "display_data",
          "data": {
            "image/png": "[encoded data removed]",
            "text/plain": [
              "<Figure size 432x288 with 1 Axes>"
            ]
          },
          "metadata": {
            "tags": [],
            "needs_background": "light"
          }
        }
      ]
    },
    {
      "cell_type": "code",
      "metadata": {
        "id": "7ZEZIUppGhdi"
      },
      "source": [
        "model.save(\"test.h5\")"
      ],
      "execution_count": null,
      "outputs": []
    }
  ]
}