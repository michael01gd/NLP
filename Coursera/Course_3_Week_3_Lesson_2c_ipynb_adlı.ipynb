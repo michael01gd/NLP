{
  "nbformat": 4,
  "nbformat_minor": 0,
  "metadata": {
    "accelerator": "GPU",
    "colab": {
      "name": "Course 3 - Week 3 - Lesson 2c.ipynb adlı not defterinin kopyası",
      "provenance": [],
      "collapsed_sections": [],
      "include_colab_link": true
    },
    "kernelspec": {
      "display_name": "Python 3",
      "language": "python",
      "name": "python3"
    },
    "language_info": {
      "codemirror_mode": {
        "name": "ipython",
        "version": 3
      },
      "file_extension": ".py",
      "mimetype": "text/x-python",
      "name": "python",
      "nbconvert_exporter": "python",
      "pygments_lexer": "ipython3",
      "version": "3.7.6"
    }
  },
  "cells": [
    {
      "cell_type": "markdown",
      "metadata": {
        "id": "view-in-github",
        "colab_type": "text"
      },
      "source": [
        "<a href=\"https://colab.research.google.com/github/michael01gd/NLP/blob/main/Coursera/Course_3_Week_3_Lesson_2c_ipynb_adl%C4%B1.ipynb\" target=\"_parent\"><img src=\"https://colab.research.google.com/assets/colab-badge.svg\" alt=\"Open In Colab\"/></a>"
      ]
    },
    {
      "cell_type": "code",
      "metadata": {
        "id": "zX4Kg8DUTKWO"
      },
      "source": [
        "#@title Licensed under the Apache License, Version 2.0 (the \"License\");\n",
        "# you may not use this file except in compliance with the License.\n",
        "# You may obtain a copy of the License at\n",
        "#\n",
        "# https://www.apache.org/licenses/LICENSE-2.0\n",
        "#\n",
        "# Unless required by applicable law or agreed to in writing, software\n",
        "# distributed under the License is distributed on an \"AS IS\" BASIS,\n",
        "# WITHOUT WARRANTIES OR CONDITIONS OF ANY KIND, either express or implied.\n",
        "# See the License for the specific language governing permissions and\n",
        "# limitations under the License."
      ],
      "execution_count": null,
      "outputs": []
    },
    {
      "cell_type": "markdown",
      "metadata": {
        "id": "gpwbmybompqm"
      },
      "source": [
        "<a href=\"https://colab.research.google.com/github/lmoroney/dlaicourse/blob/master/TensorFlow%20In%20Practice/Course%203%20-%20NLP/Course%203%20-%20Week%203%20-%20Lesson%202c.ipynb\" target=\"_parent\"><img src=\"https://colab.research.google.com/assets/colab-badge.svg\" alt=\"Open In Colab\"/></a>"
      ]
    },
    {
      "cell_type": "code",
      "metadata": {
        "colab": {
          "base_uri": "https://localhost:8080/"
        },
        "id": "jGwXGIXvFhXW",
        "outputId": "b5123e45-a1b1-4431-c70f-18b2a751bf74"
      },
      "source": [
        "import numpy as np\n",
        "\n",
        "import json\n",
        "import tensorflow as tf\n",
        "\n",
        "from tensorflow.keras.preprocessing.text import Tokenizer\n",
        "from tensorflow.keras.preprocessing.sequence import pad_sequences\n",
        "\n",
        "!wget --no-check-certificate \\\n",
        "    https://storage.googleapis.com/laurencemoroney-blog.appspot.com/sarcasm.json \\\n",
        "    -O /tmp/sarcasm.json\n",
        "\n",
        "vocab_size = 1000\n",
        "embedding_dim = 16\n",
        "max_length = 120\n",
        "trunc_type='post'\n",
        "padding_type='post'\n",
        "oov_tok = \"<OOV>\"\n",
        "training_size = 20000\n",
        "\n",
        "\n",
        "with open(\"/tmp/sarcasm.json\", 'r') as f:\n",
        "    datastore = json.load(f)\n",
        "\n",
        "\n",
        "sentences = []\n",
        "labels = []\n",
        "urls = []\n",
        "for item in datastore:\n",
        "    sentences.append(item['headline'])\n",
        "    labels.append(item['is_sarcastic'])\n",
        "\n",
        "training_sentences = sentences[0:training_size]\n",
        "testing_sentences = sentences[training_size:]\n",
        "training_labels = labels[0:training_size]\n",
        "testing_labels = labels[training_size:]\n",
        "\n",
        "tokenizer = Tokenizer(num_words=vocab_size, oov_token=oov_tok)\n",
        "tokenizer.fit_on_texts(training_sentences)\n",
        "\n",
        "word_index = tokenizer.word_index\n",
        "\n",
        "training_sequences = tokenizer.texts_to_sequences(training_sentences)\n",
        "training_padded = pad_sequences(training_sequences, maxlen=max_length, padding=padding_type, truncating=trunc_type)\n",
        "\n",
        "testing_sequences = tokenizer.texts_to_sequences(testing_sentences)\n",
        "testing_padded = pad_sequences(testing_sequences, maxlen=max_length, padding=padding_type, truncating=trunc_type)\n",
        "\n",
        "model = tf.keras.Sequential([\n",
        "    tf.keras.layers.Embedding(vocab_size, embedding_dim, input_length=max_length),\n",
        "    tf.keras.layers.Conv1D(128, 5, activation='relu'),\n",
        "    tf.keras.layers.GlobalMaxPooling1D(),\n",
        "    tf.keras.layers.Dense(24, activation='relu'),\n",
        "    tf.keras.layers.Dense(1, activation='sigmoid')\n",
        "])\n",
        "model.compile(loss='binary_crossentropy',optimizer='adam',metrics=['accuracy'])\n",
        "model.summary()\n",
        "\n",
        "num_epochs = 50\n",
        "\n",
        "training_padded = np.array(training_padded)\n",
        "training_labels = np.array(training_labels)\n",
        "testing_padded = np.array(testing_padded)\n",
        "testing_labels = np.array(testing_labels)\n",
        "\n",
        "history = model.fit(training_padded, training_labels, epochs=num_epochs, validation_data=(testing_padded, testing_labels), verbose=1)\n"
      ],
      "execution_count": null,
      "outputs": [
        {
          "output_type": "stream",
          "text": [
            "--2021-01-26 07:33:11--  https://storage.googleapis.com/laurencemoroney-blog.appspot.com/sarcasm.json\n",
            "Resolving storage.googleapis.com (storage.googleapis.com)... 74.125.20.128, 74.125.28.128, 74.125.142.128, ...\n",
            "Connecting to storage.googleapis.com (storage.googleapis.com)|74.125.20.128|:443... connected.\n",
            "HTTP request sent, awaiting response... 200 OK\n",
            "Length: 5643545 (5.4M) [application/json]\n",
            "Saving to: ‘/tmp/sarcasm.json’\n",
            "\n",
            "/tmp/sarcasm.json   100%[===================>]   5.38M  --.-KB/s    in 0.05s   \n",
            "\n",
            "2021-01-26 07:33:11 (107 MB/s) - ‘/tmp/sarcasm.json’ saved [5643545/5643545]\n",
            "\n",
            "Model: \"sequential\"\n",
            "_________________________________________________________________\n",
            "Layer (type)                 Output Shape              Param #   \n",
            "=================================================================\n",
            "embedding (Embedding)        (None, 120, 16)           16000     \n",
            "_________________________________________________________________\n",
            "conv1d (Conv1D)              (None, 116, 128)          10368     \n",
            "_________________________________________________________________\n",
            "global_max_pooling1d (Global (None, 128)               0         \n",
            "_________________________________________________________________\n",
            "dense (Dense)                (None, 24)                3096      \n",
            "_________________________________________________________________\n",
            "dense_1 (Dense)              (None, 1)                 25        \n",
            "=================================================================\n",
            "Total params: 29,489\n",
            "Trainable params: 29,489\n",
            "Non-trainable params: 0\n",
            "_________________________________________________________________\n",
            "Epoch 1/50\n",
            "625/625 [==============================] - 10s 6ms/step - loss: 0.5646 - accuracy: 0.6826 - val_loss: 0.4065 - val_accuracy: 0.8117\n",
            "Epoch 2/50\n",
            "625/625 [==============================] - 3s 5ms/step - loss: 0.3535 - accuracy: 0.8427 - val_loss: 0.3904 - val_accuracy: 0.8229\n",
            "Epoch 3/50\n",
            "625/625 [==============================] - 3s 5ms/step - loss: 0.3139 - accuracy: 0.8651 - val_loss: 0.3981 - val_accuracy: 0.8217\n",
            "Epoch 4/50\n",
            "625/625 [==============================] - 3s 5ms/step - loss: 0.2787 - accuracy: 0.8840 - val_loss: 0.3985 - val_accuracy: 0.8229\n",
            "Epoch 5/50\n",
            "625/625 [==============================] - 3s 5ms/step - loss: 0.2522 - accuracy: 0.8938 - val_loss: 0.4176 - val_accuracy: 0.8259\n",
            "Epoch 6/50\n",
            "625/625 [==============================] - 3s 5ms/step - loss: 0.2218 - accuracy: 0.9110 - val_loss: 0.4532 - val_accuracy: 0.8171\n",
            "Epoch 7/50\n",
            "625/625 [==============================] - 3s 5ms/step - loss: 0.1803 - accuracy: 0.9320 - val_loss: 0.4778 - val_accuracy: 0.8164\n",
            "Epoch 8/50\n",
            "625/625 [==============================] - 3s 5ms/step - loss: 0.1514 - accuracy: 0.9440 - val_loss: 0.5335 - val_accuracy: 0.8071\n",
            "Epoch 9/50\n",
            "625/625 [==============================] - 3s 5ms/step - loss: 0.1309 - accuracy: 0.9526 - val_loss: 0.5833 - val_accuracy: 0.8095\n",
            "Epoch 10/50\n",
            "625/625 [==============================] - 3s 5ms/step - loss: 0.1044 - accuracy: 0.9631 - val_loss: 0.6948 - val_accuracy: 0.8129\n",
            "Epoch 11/50\n",
            "625/625 [==============================] - 3s 5ms/step - loss: 0.0868 - accuracy: 0.9702 - val_loss: 0.7424 - val_accuracy: 0.8035\n",
            "Epoch 12/50\n",
            "625/625 [==============================] - 3s 5ms/step - loss: 0.0759 - accuracy: 0.9766 - val_loss: 0.8073 - val_accuracy: 0.8091\n",
            "Epoch 13/50\n",
            "625/625 [==============================] - 3s 5ms/step - loss: 0.0625 - accuracy: 0.9780 - val_loss: 0.8825 - val_accuracy: 0.8043\n",
            "Epoch 14/50\n",
            "625/625 [==============================] - 3s 5ms/step - loss: 0.0554 - accuracy: 0.9816 - val_loss: 0.9742 - val_accuracy: 0.8031\n",
            "Epoch 15/50\n",
            "625/625 [==============================] - 3s 5ms/step - loss: 0.0467 - accuracy: 0.9828 - val_loss: 1.0476 - val_accuracy: 0.7973\n",
            "Epoch 16/50\n",
            "625/625 [==============================] - 3s 5ms/step - loss: 0.0434 - accuracy: 0.9835 - val_loss: 1.1317 - val_accuracy: 0.8003\n",
            "Epoch 17/50\n",
            "625/625 [==============================] - 3s 5ms/step - loss: 0.0371 - accuracy: 0.9864 - val_loss: 1.1471 - val_accuracy: 0.7931\n",
            "Epoch 18/50\n",
            "625/625 [==============================] - 3s 5ms/step - loss: 0.0372 - accuracy: 0.9860 - val_loss: 1.2601 - val_accuracy: 0.7997\n",
            "Epoch 19/50\n",
            "625/625 [==============================] - 3s 5ms/step - loss: 0.0330 - accuracy: 0.9873 - val_loss: 1.2819 - val_accuracy: 0.7949\n",
            "Epoch 20/50\n",
            "625/625 [==============================] - 3s 5ms/step - loss: 0.0315 - accuracy: 0.9878 - val_loss: 1.3141 - val_accuracy: 0.7916\n",
            "Epoch 21/50\n",
            "625/625 [==============================] - 3s 5ms/step - loss: 0.0296 - accuracy: 0.9891 - val_loss: 1.4203 - val_accuracy: 0.7889\n",
            "Epoch 22/50\n",
            "625/625 [==============================] - 3s 5ms/step - loss: 0.0309 - accuracy: 0.9887 - val_loss: 1.4845 - val_accuracy: 0.7898\n",
            "Epoch 23/50\n",
            "625/625 [==============================] - 3s 5ms/step - loss: 0.0268 - accuracy: 0.9903 - val_loss: 1.5158 - val_accuracy: 0.7879\n",
            "Epoch 24/50\n",
            "625/625 [==============================] - 3s 5ms/step - loss: 0.0276 - accuracy: 0.9895 - val_loss: 1.5565 - val_accuracy: 0.8012\n",
            "Epoch 25/50\n",
            "625/625 [==============================] - 3s 5ms/step - loss: 0.0293 - accuracy: 0.9890 - val_loss: 1.6156 - val_accuracy: 0.7870\n",
            "Epoch 26/50\n",
            "625/625 [==============================] - 3s 5ms/step - loss: 0.0246 - accuracy: 0.9910 - val_loss: 1.6479 - val_accuracy: 0.7952\n",
            "Epoch 27/50\n",
            "625/625 [==============================] - 3s 5ms/step - loss: 0.0264 - accuracy: 0.9892 - val_loss: 1.6745 - val_accuracy: 0.7918\n",
            "Epoch 28/50\n",
            "625/625 [==============================] - 3s 5ms/step - loss: 0.0302 - accuracy: 0.9880 - val_loss: 1.7130 - val_accuracy: 0.7912\n",
            "Epoch 29/50\n",
            "625/625 [==============================] - 3s 5ms/step - loss: 0.0248 - accuracy: 0.9902 - val_loss: 1.8137 - val_accuracy: 0.7925\n",
            "Epoch 30/50\n",
            "625/625 [==============================] - 3s 5ms/step - loss: 0.0224 - accuracy: 0.9909 - val_loss: 1.7813 - val_accuracy: 0.7982\n",
            "Epoch 31/50\n",
            "625/625 [==============================] - 3s 5ms/step - loss: 0.0207 - accuracy: 0.9916 - val_loss: 1.8459 - val_accuracy: 0.7971\n",
            "Epoch 32/50\n",
            "625/625 [==============================] - 3s 5ms/step - loss: 0.0210 - accuracy: 0.9914 - val_loss: 2.0077 - val_accuracy: 0.7834\n",
            "Epoch 33/50\n",
            "625/625 [==============================] - 3s 5ms/step - loss: 0.0219 - accuracy: 0.9908 - val_loss: 1.9450 - val_accuracy: 0.7892\n",
            "Epoch 34/50\n",
            "625/625 [==============================] - 3s 5ms/step - loss: 0.0237 - accuracy: 0.9908 - val_loss: 1.8650 - val_accuracy: 0.7891\n",
            "Epoch 35/50\n",
            "625/625 [==============================] - 3s 5ms/step - loss: 0.0251 - accuracy: 0.9891 - val_loss: 1.9261 - val_accuracy: 0.7892\n",
            "Epoch 36/50\n",
            "625/625 [==============================] - 3s 5ms/step - loss: 0.0258 - accuracy: 0.9894 - val_loss: 1.9598 - val_accuracy: 0.7927\n",
            "Epoch 37/50\n",
            "625/625 [==============================] - 3s 5ms/step - loss: 0.0190 - accuracy: 0.9921 - val_loss: 2.0483 - val_accuracy: 0.7876\n",
            "Epoch 38/50\n",
            "625/625 [==============================] - 3s 5ms/step - loss: 0.0186 - accuracy: 0.9920 - val_loss: 2.0627 - val_accuracy: 0.7869\n",
            "Epoch 39/50\n",
            "625/625 [==============================] - 3s 5ms/step - loss: 0.0194 - accuracy: 0.9909 - val_loss: 2.1339 - val_accuracy: 0.7937\n",
            "Epoch 40/50\n",
            "625/625 [==============================] - 3s 5ms/step - loss: 0.0179 - accuracy: 0.9922 - val_loss: 2.0813 - val_accuracy: 0.7959\n",
            "Epoch 41/50\n",
            "625/625 [==============================] - 3s 5ms/step - loss: 0.0257 - accuracy: 0.9892 - val_loss: 2.0144 - val_accuracy: 0.7843\n",
            "Epoch 42/50\n",
            "625/625 [==============================] - 3s 5ms/step - loss: 0.0221 - accuracy: 0.9910 - val_loss: 2.0874 - val_accuracy: 0.7903\n",
            "Epoch 43/50\n",
            "625/625 [==============================] - 3s 5ms/step - loss: 0.0162 - accuracy: 0.9931 - val_loss: 2.2144 - val_accuracy: 0.7864\n",
            "Epoch 44/50\n",
            "625/625 [==============================] - 3s 5ms/step - loss: 0.0154 - accuracy: 0.9926 - val_loss: 2.2932 - val_accuracy: 0.7952\n",
            "Epoch 45/50\n",
            "625/625 [==============================] - 3s 5ms/step - loss: 0.0156 - accuracy: 0.9926 - val_loss: 2.2974 - val_accuracy: 0.7824\n",
            "Epoch 46/50\n",
            "625/625 [==============================] - 3s 5ms/step - loss: 0.0269 - accuracy: 0.9880 - val_loss: 2.2275 - val_accuracy: 0.7858\n",
            "Epoch 47/50\n",
            "625/625 [==============================] - 3s 5ms/step - loss: 0.0213 - accuracy: 0.9910 - val_loss: 2.1626 - val_accuracy: 0.7858\n",
            "Epoch 48/50\n",
            "625/625 [==============================] - 3s 5ms/step - loss: 0.0175 - accuracy: 0.9919 - val_loss: 2.4339 - val_accuracy: 0.7870\n",
            "Epoch 49/50\n",
            "625/625 [==============================] - 3s 5ms/step - loss: 0.0164 - accuracy: 0.9919 - val_loss: 2.3319 - val_accuracy: 0.7897\n",
            "Epoch 50/50\n",
            "625/625 [==============================] - 3s 5ms/step - loss: 0.0180 - accuracy: 0.9915 - val_loss: 2.3602 - val_accuracy: 0.7845\n"
          ],
          "name": "stdout"
        }
      ]
    },
    {
      "cell_type": "code",
      "metadata": {
        "colab": {
          "base_uri": "https://localhost:8080/",
          "height": 542
        },
        "id": "g9DC6dmLF8DC",
        "outputId": "3a9699b3-aa19-45b6-aed6-9cb1766f91d7"
      },
      "source": [
        "import matplotlib.pyplot as plt\n",
        "\n",
        "\n",
        "def plot_graphs(history, string):\n",
        "  plt.plot(history.history[string])\n",
        "  plt.plot(history.history['val_'+string])\n",
        "  plt.xlabel(\"Epochs\")\n",
        "  plt.ylabel(string)\n",
        "  plt.legend([string, 'val_'+string])\n",
        "  plt.show()\n",
        "\n",
        "plot_graphs(history, 'accuracy')\n",
        "plot_graphs(history, 'loss')"
      ],
      "execution_count": null,
      "outputs": [
        {
          "output_type": "display_data",
          "data": {
            "image/png": "[encoded data removed]",
            "text/plain": [
              "<Figure size 432x288 with 1 Axes>"
            ]
          },
          "metadata": {
            "tags": [],
            "needs_background": "light"
          }
        },
        {
          "output_type": "display_data",
          "data": {
            "image/png": "[encoded data removed]",
            "text/plain": [
              "<Figure size 432x288 with 1 Axes>"
            ]
          },
          "metadata": {
            "tags": [],
            "needs_background": "light"
          }
        }
      ]
    },
    {
      "cell_type": "code",
      "metadata": {
        "id": "7ZEZIUppGhdi"
      },
      "source": [
        "model.save(\"test.h5\")"
      ],
      "execution_count": null,
      "outputs": []
    }
  ]
}